{
 "cells": [
  {
   "cell_type": "markdown",
   "metadata": {},
   "source": [
    "## RSA - The Project"
   ]
  },
  {
   "cell_type": "markdown",
   "metadata": {},
   "source": [
    "Name: Connor Brown "
   ]
  },
  {
   "cell_type": "markdown",
   "metadata": {},
   "source": [
    "**The Prompt:**\n",
    "\n",
    "Your boss has been long intrigued by the RSA algorithm and has asked you to create a tutorial RSA walk through and exploration project to help the boss and others in the company to understand the basic structures and mathematics of an RSA implementation.\n",
    "\n",
    "This project will:\n",
    "1. Implement the algorithm for breaking codes with a given basic structure. \n",
    "2. Explain the steps \n",
    "4. Implement a custom feature using previously written code."
   ]
  },
  {
   "cell_type": "markdown",
   "metadata": {},
   "source": [
    "<hr />\n",
    "\n",
    "# Table of Contents\n",
    "\n",
    "## 1. Introduction to RSA Project\n",
    "\n",
    "\n",
    "## 2. Code Package: FME\n",
    "        * Convert_Binary_String \n",
    "        * FME\n",
    "\n",
    "## 3. Code Package: Key Generation using Euclidean Algorithms\n",
    "        * Euclidean Algorithm\n",
    "        * Extended EA\n",
    "        * Find_Public_Key_e\n",
    "        * Find_Private_Key_d\n",
    "\n",
    "## 4. Code Package: En/Decode Messages\n",
    "        * Convert_Text\n",
    "        * Convert_Num\n",
    "        * Encode\n",
    "        * Decode\n",
    "\n",
    "\n",
    "## 5. Code Demo\n",
    "\n",
    "## 6. Code Exchange Results\n",
    "\n",
    "## 7. Narrative\n",
    "\n",
    "## 8. Code Breaking\n",
    "\n",
    "## 9. Code Breaking: Complete Examples\n",
    "\n",
    "## 10. Custom Feature\n",
    "\n",
    "\n",
    "    \n"
   ]
  },
  {
   "cell_type": "markdown",
   "metadata": {},
   "source": [
    " "
   ]
  },
  {
   "cell_type": "markdown",
   "metadata": {},
   "source": []
  },
  {
   "cell_type": "markdown",
   "metadata": {},
   "source": []
  },
  {
   "cell_type": "markdown",
   "metadata": {},
   "source": [
    "\n",
    "\n",
    "\n",
    "\n",
    "\n"
   ]
  },
  {
   "cell_type": "markdown",
   "metadata": {},
   "source": [
    "## 1. Introduction to RSA Project\n"
   ]
  },
  {
   "cell_type": "markdown",
   "metadata": {},
   "source": [
    "The Rivest-Shamir-Adleman algorithm, or RSA for short, is the most common way for encrypting and exchanging information securely. In this project, I will be building RSA from scratch, using number theory and Python programming. RSA relvolves around public and private keys. A user sends a public key to another user, that user encrypts their information with the public key, and sends it back to the original user, who decrypts the information with the private key. To get these keys, we need two different prime numbers p and q. Their product n as well as phi function (p - 1)(q - 1) are used in determining the keys. p and q are taken as inputs to FindPublicKey(). n and phi_n (the phi function) are calculated, and then an intial value for e, the public key, is determined using a random number generator. e must fulfill three conditions: be coprime to phi_n and not equal to either p or q. Then, a private key d is determined by using the Extended Euclidean Algorithm to get the modular inverse of e mod phi. e and d are used to convert the ASCII characters in a message into numbers that have no apparent relationship to the original ASCII values, then convert the unreadable number list back into a comprehensible message. In this project, I will be showing the Python implementation of each of these steps. The end result will be a program with a custom main function that users can use to read, encrypt and decrypt messages."
   ]
  },
  {
   "cell_type": "markdown",
   "metadata": {},
   "source": [
    "## 2. Code Package FME"
   ]
  },
  {
   "cell_type": "code",
   "execution_count": 62,
   "metadata": {},
   "outputs": [],
   "source": [
    "def Convert_Binary_String(_int):\n",
    "    \"\"\"\n",
    "    Converts an integer to a string of its binary expansion. May or may not be needed.\n",
    "    \n",
    "    For example:\n",
    "    _int = 345\n",
    "    bits = 101011001\n",
    "    \"\"\"\n",
    "    \n",
    "    return bin(_int)[2:]"
   ]
  },
  {
   "cell_type": "code",
   "execution_count": 63,
   "metadata": {},
   "outputs": [],
   "source": [
    "def FME(b, n, m):\n",
    "    \"\"\"\n",
    "    Using the fast modular exponentiation algorithm, returns b**n mod m.\n",
    "    \"\"\"\n",
    "    \n",
    "    # initial values\n",
    "    result = 1\n",
    "    square = b\n",
    "    \n",
    "    while (n > 0):\n",
    "        # convert n to binary, start from least significant digit\n",
    "        k = n % 2 \n",
    "        # add to result if binary digit is 1\n",
    "        if k == 1:\n",
    "            result = (result * square) % m\n",
    "        # advance exponent base\n",
    "        square = (square * square) % m\n",
    "        # advance to next digit in n while reducing n\n",
    "        n //= 2\n",
    "        \n",
    "    return result"
   ]
  },
  {
   "cell_type": "markdown",
   "metadata": {},
   "source": [
    "## 3. Code Package: Key Generation using Euclidean Algorithms"
   ]
  },
  {
   "cell_type": "code",
   "execution_count": 64,
   "metadata": {},
   "outputs": [],
   "source": [
    "def Euclidean_Alg(a, b):\n",
    "    \"\"\"\n",
    "    1. Calculate the Greatest Common Divisor of a and b.\n",
    "    \n",
    "    2. This version should have only positive inputs and outputs.\n",
    "    \n",
    "    3. The function must return a single integer ('x') which is\n",
    "    the gcd of a and b.\n",
    "    \"\"\"\n",
    "    \n",
    "    # check inputs for correct type and value\n",
    "    if (type(a) != int) or (type(b) != int):\n",
    "        raise TypeError(\"Inputs must be positive integers.\")\n",
    "    if (a <= 0) or (b <= 0):\n",
    "        raise ValueError(\"Inputs must be positive integers.\")\n",
    "    \n",
    "    # swap inputs if a is not greater than b\n",
    "    if (b > a):\n",
    "        temp = a\n",
    "        a = b\n",
    "        b = temp\n",
    "    \n",
    "    # calculate gcd\n",
    "    while (b > 0):\n",
    "        # find remainder of a / b\n",
    "        k = a % b\n",
    "        # advance a to next smallest number\n",
    "        a = b\n",
    "        # advance b to remainder\n",
    "        b = k\n",
    "    \n",
    "    # gcd equal to final value of a\n",
    "    x = a\n",
    "    \n",
    "    return x"
   ]
  },
  {
   "cell_type": "code",
   "execution_count": 65,
   "metadata": {},
   "outputs": [],
   "source": [
    "def EEA(a, b):\n",
    "    \"\"\" \n",
    "    Extended Euclidean Algorithm - This version will return both: \n",
    "    1. the GCD of a, b \n",
    "    2. Bezout's coefficients for representing the GCD as a linear combination.\n",
    "    \"\"\"\n",
    "        \n",
    "    # check inputs for correct type and value - must be positive integers\n",
    "    if (type(a) != int) or (type(b) != int):\n",
    "        raise TypeError(\"Inputs must be positive integers.\")\n",
    "    if (a <= 0) or (b <= 0):\n",
    "        raise ValueError(\"Inputs must be positive integers.\")\n",
    "    \n",
    "    # swap inputs if a is not greater than b\n",
    "    isSwapped = b > a\n",
    "    if (isSwapped):\n",
    "        temp = a\n",
    "        a = b\n",
    "        b = temp\n",
    "        \n",
    "    # initial values of a and b\n",
    "    a0 = a\n",
    "    b0 = b\n",
    "    \n",
    "    # initial values of Bezout coefficients\n",
    "    s1, t1 = (1, 0)\n",
    "    s2, t2 = (0, 1)\n",
    "    \n",
    "    # calculate gcd and Bezout coefficients\n",
    "    while (b > 0):\n",
    "        # update a and b using new Bezout coefficients\n",
    "        a = (s1 * a0) + (t1 * b0)\n",
    "        b = (s2 * a0) + (t2 * b0)\n",
    "        \n",
    "        # find remainder of a / b\n",
    "        k = a % b\n",
    "        # find integer quotient of a / b\n",
    "        q = a // b\n",
    "        \n",
    "        # advance a to next smallest number\n",
    "        a = b\n",
    "        # advance b to remainder\n",
    "        b = k\n",
    "        \n",
    "        # calculate Bezout coefficients for next smallest number\n",
    "        s1_p, t1_p = (s2, t2)\n",
    "        s2_p, t2_p = (s1 - (q * s2), t1 - (q * t2))\n",
    "        \n",
    "        # update actual Bezout coefficients\n",
    "        s1, t1 = (s1_p, t1_p)\n",
    "        s2, t2 = (s2_p, t2_p)\n",
    "        \n",
    "    # gcd equal to final value of a\n",
    "    gcd = a\n",
    "    \n",
    "    # reflect original order of a and b\n",
    "    if isSwapped:\n",
    "        s1_final = t1\n",
    "        t1_final = s1\n",
    "    else:\n",
    "        s1_final = s1\n",
    "        t1_final = t1\n",
    "        \n",
    "    # ensure that s1_final is positive using modular inverse trick\n",
    "    while (s1_final < 0):\n",
    "        if isSwapped:\n",
    "            s1_final += a0     # add a0\n",
    "        else:\n",
    "            s1_final += b0     # add b0\n",
    "        t1_final = (gcd - (s1_final * a0)) // b0\n",
    "        \n",
    "    \n",
    "    return gcd, (s1_final, t1_final)"
   ]
  },
  {
   "cell_type": "code",
   "execution_count": 66,
   "metadata": {},
   "outputs": [],
   "source": [
    "def Find_Public_Key_e(p, q):\n",
    "    \"\"\"\n",
    "    Inputs: 2 prime numbers, p and q.\n",
    "\n",
    "    Uses the previously defined Euclid_Alg function.\n",
    "    \n",
    "    Returns 2 elements as follows:\n",
    "    public key: n\n",
    "    public key: e  \n",
    "    \"\"\"\n",
    "    \n",
    "    # for getting quality random numbers\n",
    "    from secrets import randbelow\n",
    "    \n",
    "    # calculate n and phi(n)\n",
    "    n = p * q\n",
    "    phi_n = (p - 1) * (q - 1)\n",
    "    \n",
    "    # calculate initial value for e\n",
    "    e = randbelow(10000)\n",
    "    \n",
    "    # update e value until e is relatively prime to phi_n and not equal to p or q\n",
    "    while (Euclidean_Alg(phi_n, e) != 1 or e == p or e == q):\n",
    "        e = randbelow(10000)\n",
    "        \n",
    "    return (n, e)\n",
    "    "
   ]
  },
  {
   "cell_type": "code",
   "execution_count": 67,
   "metadata": {},
   "outputs": [],
   "source": [
    "def Find_Private_Key_d(e, p, q):\n",
    "    \"\"\"\n",
    "    Inputs: public key e and two prime numbers, p and q.\n",
    "    \n",
    "    This will use the Extended Euclidean Algorithm (EEA) function.\n",
    "    \n",
    "    Returns the following:\n",
    "        d: the decryption component.\n",
    "    \"\"\"\n",
    "    \n",
    "    # calculate n and phi(n)\n",
    "    n = p * q\n",
    "    phi_n = (p - 1) * (q - 1)\n",
    "    \n",
    "    # d is modular inverse of e mod phi_n - calculate using EEA of (e, phi_n)\n",
    "    gcd, (s1, t1) = EEA(e, phi_n)\n",
    "    \n",
    "    # d is equal to Bezout coefficient s1\n",
    "    d = s1\n",
    "    \n",
    "    return d"
   ]
  },
  {
   "cell_type": "markdown",
   "metadata": {},
   "source": [
    "## 4. Code Package: En/Decode Messages"
   ]
  },
  {
   "cell_type": "code",
   "execution_count": 68,
   "metadata": {},
   "outputs": [],
   "source": [
    "def Convert_Text(_string):\n",
    "    \"\"\"\n",
    "    Takes in a simple string such as \"hello\" and outputs the corresponding\n",
    "    standard list of integers (ascii) for each letter in the string.\n",
    "\n",
    "    For example:\n",
    "    _string = hello\n",
    "    integer_list = [104, 101, 108, 108, 111]\n",
    "    \"\"\"\n",
    "    integer_list = []\n",
    "    \n",
    "    # add converted characters to list\n",
    "    for char in _string:\n",
    "        integer_list.append(ord(char))\n",
    "        \n",
    "    return integer_list"
   ]
  },
  {
   "cell_type": "code",
   "execution_count": 69,
   "metadata": {},
   "outputs": [],
   "source": [
    "def Convert_Num(_list):\n",
    "    \"\"\"\n",
    "    Takes in a list of integers and outputs the corresponding string (ascii).\n",
    "    \n",
    "    For example:\n",
    "    _list = [104, 101, 108, 108, 111]\n",
    "    _string = hello\n",
    "    \"\"\"\n",
    "    _string = ''\n",
    "    \n",
    "    # update string with converted integers\n",
    "    for i in _list:\n",
    "        _string += chr(i)\n",
    "        \n",
    "    return _string"
   ]
  },
  {
   "cell_type": "code",
   "execution_count": 70,
   "metadata": {},
   "outputs": [],
   "source": [
    "def Encode(n, e, message):\n",
    "    \"\"\"\n",
    "    First, convert a string message into a list of integers using Convert_Text.\n",
    "    \n",
    "    Then, encode each of these integers using n and e and\n",
    "    return the encoded cipher_text.\n",
    "    \"\"\"\n",
    "    \n",
    "    # get unencoded list\n",
    "    int_list = Convert_Text(message)\n",
    "    \n",
    "    # initialize encoded list\n",
    "    cipher_text = []\n",
    "    \n",
    "    # encode items in int_list using FME, add to cipher_text\n",
    "    for m in int_list:\n",
    "        m_encrypted = FME(m, e, n)\n",
    "        cipher_text.append(m_encrypted)\n",
    "    \n",
    "    return cipher_text\n"
   ]
  },
  {
   "cell_type": "code",
   "execution_count": 71,
   "metadata": {},
   "outputs": [],
   "source": [
    "def Decode(n, d, cipher_text):\n",
    "    \"\"\"\n",
    "    First, decrypt each integer in cipher_text using n and d.\n",
    "    \n",
    "    Then, recover the original message as a string using Convert_Num.\n",
    "    \n",
    "    \"\"\"\n",
    "    \n",
    "    # initialize decrypted message\n",
    "    message = ''\n",
    "    \n",
    "    # decrypt cipher text list using FME\n",
    "    decrypted_cipher_text = [FME(c, d, n) for c in cipher_text]\n",
    "    \n",
    "    # convert decrypted list to string\n",
    "    message = Convert_Num(decrypted_cipher_text)\n",
    "\n",
    "    return message"
   ]
  },
  {
   "cell_type": "markdown",
   "metadata": {
    "tags": []
   },
   "source": [
    "### 5. Code Demo"
   ]
  },
  {
   "cell_type": "markdown",
   "metadata": {},
   "source": [
    "**Generating Keys**\n",
    "\n",
    "First, pass two different prime numbers p and q to FindPublicKey(), and extract the return values n_val and e_val (the public keys):"
   ]
  },
  {
   "cell_type": "code",
   "execution_count": 72,
   "metadata": {},
   "outputs": [],
   "source": [
    "p = 29\n",
    "q = 347\n",
    "n_val, e_val = Find_Public_Key_e(p, q)"
   ]
  },
  {
   "cell_type": "markdown",
   "metadata": {},
   "source": [
    "Next, pass e_val, p and q to FindPrivateKey(), and extract the return value d (the private key):"
   ]
  },
  {
   "cell_type": "code",
   "execution_count": 73,
   "metadata": {},
   "outputs": [],
   "source": [
    "d_val = Find_Private_Key_d(e_val, p, q)"
   ]
  },
  {
   "cell_type": "markdown",
   "metadata": {},
   "source": [
    "*Note:* e must be relatively prime to phi ((p - 1)(q - 1)), and d must be a modular inverse of e mod phi. This is ensured by using the Euclidean Algorithm (Euclidean_Alg()) and the Extended Eucliean Algorithm (EEA()) helper functions inside of the public and private key functions. The standard Euclidean Algorithm checks that the GCD of e and phi is 1, proving they are relatively prime, and the Extended Euclidean Algorithm both checks coprimality AND finds a d such that it is a modular inverse of e mod phi. These conditions are critical to the encoding and decoding process that make RSA work. The public and private keys must be correctly paired, otherwise the encryption and decryption will not function correctly."
   ]
  },
  {
   "cell_type": "markdown",
   "metadata": {},
   "source": [
    "**Encoding Messages**\n",
    "\n",
    "Now on to the fun part. Encode the characters using Encode(), making sure to pass in the public keys n_val and e_val determined earlier:"
   ]
  },
  {
   "cell_type": "code",
   "execution_count": 74,
   "metadata": {},
   "outputs": [],
   "source": [
    "message = \"Hello, World!\"\n",
    "encoded_text_list = Encode(n_val, e_val, message)"
   ]
  },
  {
   "cell_type": "markdown",
   "metadata": {},
   "source": [
    "*Note:* Both Encode() and Decode() use Fast Modular Exponentiation (FME) to calculate the mod of each item in the number sequence. RSA, at full capacity, uses huge numbers (~100 digits) that take a very long time to process. Python's built-in modulo operator (%) does not use FME, meaning it has much longer runtimes as the numbers get bigger. The custom FME() function I wrote earlier and use inside of Encode() and Decode() is lightning-fast and better suited to the large numbers involved. Here's my encoded message:"
   ]
  },
  {
   "cell_type": "code",
   "execution_count": 75,
   "metadata": {},
   "outputs": [
    {
     "name": "stdout",
     "output_type": "stream",
     "text": [
      "[5549, 9435, 2811, 2811, 9867, 2165, 47, 3799, 9867, 9747, 2811, 5893, 270]\n"
     ]
    }
   ],
   "source": [
    "print(encoded_text_list)"
   ]
  },
  {
   "cell_type": "markdown",
   "metadata": {},
   "source": [
    "**Decoding Messages**\n",
    "\n",
    "Decode the number list using Decode(), making sure to pass in the n_val and private key d_val determined earlier, and see the result:"
   ]
  },
  {
   "cell_type": "code",
   "execution_count": 76,
   "metadata": {},
   "outputs": [
    {
     "name": "stdout",
     "output_type": "stream",
     "text": [
      "Hello, World!\n"
     ]
    }
   ],
   "source": [
    "decoded_text = Decode(n_val, d_val, encoded_text_list)\n",
    "print(decoded_text)"
   ]
  },
  {
   "cell_type": "markdown",
   "metadata": {},
   "source": [
    "### 6. Code Exchange Results"
   ]
  },
  {
   "cell_type": "code",
   "execution_count": 77,
   "metadata": {},
   "outputs": [
    {
     "name": "stdout",
     "output_type": "stream",
     "text": [
      "\n",
      "If you could have a superpower, what would it be?\n",
      "\n",
      "Cipher = [3255, 2178, 1116, 4621, 2178, 3258, 3641, 3099, 485, 4815, 2178, 2209, 245, 3641, 882, 245, 245, 2153, 2178, 3099, 2153, 5370, 523, 4621, 523, 3641, 245, 5439, 2178, 962, 5319, 151, 3258, 523, 485, 1116, 5370, 2178, 2497, 245, 5586, 245, 2153, 245, 2497, 1116, 3641, 523, 3995, 2153, 2178, 1116, 2153, 5439, 2178, 5370, 523, 2153, 245, 2221, 3995, 3531, 2221, 3258, 523, 5586, 5319, 3641, 2178, 3641, 245, 5370, 245, 962, 3995, 2497, 3641, 1116, 3641, 523, 3995, 2153, 3383, 2178, 3255, 2178, 882, 1116, 2153, 3641, 2178, 3641, 3995, 2178, 2209, 3995, 3641, 5319, 2178, 2209, 245, 2178, 5319, 245, 1116, 5370, 3641, 5319, 151, 2178, 1116, 2153, 5439, 2178, 5586, 3995, 2178, 1116, 5370, 5370, 2178, 4815, 523, 2153, 5439, 3258, 2178, 3995, 3531, 2178, 962, 5370, 1116, 485, 245, 3258, 2621]\n",
      "\n",
      "Should civilization collapse, what piece of media (book, movie, album, etc.) would you like aliens to discover us by?\n",
      "\n",
      "Cipher = [18147, 24171, 34949, 75964, 11573, 34949, 75964, 11573, 60294, 42354, 42354, 11573, 36510, 33126, 33126, 12397, 11573, 69933, 11573, 57492, 43002, 33126, 75964, 60294, 34949, 42354, 52635, 11573, 44617, 42354, 47541, 11573, 8347, 33126, 11573, 60294, 42354, 11573, 69933, 52635, 75964, 77341, 33126, 47541, 11573, 77341, 34949, 60294, 24171, 11573, 42354, 52635, 33126, 11573, 60294, 24171, 34949, 52635, 45026, 24596, 11573, 37893, 11573, 77341, 42354, 43002, 7640, 36510, 11573, 24171, 42354, 12397, 33126, 11573, 69933, 7640, 34949, 33126, 52635, 75964, 11573, 77341, 42354, 43002, 7640, 36510, 11573, 36510, 34949, 75964, 45234, 42354, 35674, 33126, 47541, 11573, 42354, 43002, 47541, 11573, 45234, 69933, 12397, 69933, 45234, 34949, 60294, 12264, 11573, 60294, 42354, 11573, 36510, 42354, 11573, 69584, 42354, 60294, 24171, 11573, 45026, 42354, 42354, 36510, 11573, 69933, 52635, 36510, 11573, 33126, 35674, 34949, 7640, 11573, 44689, 11573, 60294, 24171, 33126, 11573, 24171, 43002, 8347, 69933, 52635, 11573, 12397, 69933, 47541, 69933, 36510, 42354, 33880, 24596]\n",
      "\n",
      "When it's hot outside, do you prefer ice cream or a popsicle? What's your favorite?\n",
      "\n",
      "Cipher = [63917, 146715, 147401, 5165, 50217, 141543, 409, 83619, 20539, 5165, 106642, 73103, 20539, 5165, 80559, 409, 85385, 141543, 5165, 409, 138638, 141543, 5165, 138638, 83619, 141543, 106642, 147401, 5165, 50217, 94157, 141543, 73103, 5165, 409, 43504, 146715, 96940, 5165, 138638, 117516, 80559, 20539, 5165, 117516, 110969, 43504, 96940, 409, 20539, 141543, 71584, 5165, 132994, 110969, 43504, 5165, 50217, 94157, 141543, 73103, 5165, 409, 43504, 146715, 96940, 5165, 94157, 117516, 43504, 80556, 5165, 63917, 5165, 80559, 409, 85385, 141543, 5165, 94112, 117516, 94112, 96940, 409, 138638, 80559, 141543, 96940, 5165, 106642, 73103, 20539, 5165, 96940, 94157, 106642, 41334, 141543, 20539, 5165, 409, 138638, 141543, 71584, 5165, 19597, 80559, 106642, 41334, 117516, 83619, 5165, 20539, 141543, 94112, 141543, 73103, 20539, 96940, 5165, 117516, 73103, 5165, 147401, 11385, 5165, 147401, 117516, 117516, 20539, 71584]\n",
      "\n"
     ]
    }
   ],
   "source": [
    "print()\n",
    "\n",
    "# Question - by Patrick B.\n",
    "encoded_message = [3255, 3531, 2178, 151, 3995, 3099, 2178, 485, 3995, 3099, 5370, 5439, 2178, 5319, 1116, 461, 245, 2178, 1116, 2178, 3258, 3099, 962, 245, 2497, 962, 3995, 882, 245, 2497, 347, 2178, 882, 5319, 1116, 3641, 2178, 882, 3995, 3099, 5370, 5439, 2178, 523, 3641, 2178, 2209, 245, 4313]\n",
    "decoded_message = Decode(5609, 3971, encoded_message)\n",
    "print(decoded_message)\n",
    "\n",
    "# Answer to Question - Connor Brown\n",
    "string = \"I am stuck between unlimited physical regeneration and line-of-sight teleportation. I want to both be healthy and go all kinds of places!\"\n",
    "encoded_message = Encode(5609, 11, string)\n",
    "print()\n",
    "print(\"Cipher =\", encoded_message)\n",
    "\n",
    "print()\n",
    "#################################\n",
    "\n",
    "# Question - by Patricia V.\n",
    "encoded_message = [69475, 24171, 42354, 43002, 7640, 36510, 11573, 45234, 34949, 35674, 34949, 7640, 34949, 44246, 69933, 60294, 34949, 42354, 52635, 11573, 45234, 42354, 7640, 7640, 69933, 12397, 75964, 33126, 53207, 11573, 77341, 24171, 69933, 60294, 11573, 12397, 34949, 33126, 45234, 33126, 11573, 42354, 44617, 11573, 8347, 33126, 36510, 34949, 69933, 11573, 38127, 69584, 42354, 42354, 76473, 53207, 11573, 8347, 42354, 35674, 34949, 33126, 53207, 11573, 69933, 7640, 69584, 43002, 8347, 53207, 11573, 33126, 60294, 45234, 24596, 15300, 11573, 77341, 42354, 43002, 7640, 36510, 11573, 12264, 42354, 43002, 11573, 7640, 34949, 76473, 33126, 11573, 69933, 7640, 34949, 33126, 52635, 75964, 11573, 60294, 42354, 11573, 36510, 34949, 75964, 45234, 42354, 35674, 33126, 47541, 11573, 43002, 75964, 11573, 69584, 12264, 24253]\n",
    "decoded_message = Decode(77851, 36095, encoded_message)\n",
    "print(decoded_message)\n",
    "\n",
    "# Answer to Question - Connor Brown\n",
    "string = \"This is too deep a question for me to answer with one thing. I would hope aliens would discover our capacity to do both good and evil - the human paradox.\"\n",
    "encoded_message = Encode(77851, 47, string)\n",
    "print()\n",
    "print(\"Cipher =\", encoded_message)\n",
    "\n",
    "print()\n",
    "#################################\n",
    "\n",
    "# Question - by Linda M.\n",
    "encoded_message = [74952, 94157, 141543, 73103, 5165, 409, 43504, 146715, 96940, 5165, 94157, 117516, 43504, 5165, 117516, 110969, 43504, 96940, 409, 20539, 141543, 80556, 5165, 20539, 117516, 5165, 11385, 117516, 110969, 5165, 94112, 83619, 141543, 35329, 141543, 83619, 5165, 409, 138638, 141543, 5165, 138638, 83619, 141543, 106642, 147401, 5165, 117516, 83619, 5165, 106642, 5165, 94112, 117516, 94112, 96940, 409, 138638, 80559, 141543, 52289, 5165, 74952, 94157, 106642, 43504, 146715, 96940, 5165, 11385, 117516, 110969, 83619, 5165, 35329, 106642, 41334, 117516, 83619, 409, 43504, 141543, 52289]\n",
    "decoded_message = Decode(153193, 91433, encoded_message)\n",
    "print(decoded_message)\n",
    "\n",
    "# Answer to Question - Connor Brown\n",
    "string = \"I'm weird and like ice cream when it's cold outside. But when it's hot, I like popsicles and shaved ice. Flavor depends on my mood.\"\n",
    "encoded_message = Encode(153193, 5, string)\n",
    "print()\n",
    "print(\"Cipher =\", encoded_message)\n",
    "\n",
    "print()"
   ]
  },
  {
   "cell_type": "markdown",
   "metadata": {},
   "source": [
    "### 7. Project Narrative"
   ]
  },
  {
   "cell_type": "markdown",
   "metadata": {},
   "source": [
    "My process for this project was a solid combination of techniques. A few weeks ago, I was new to RSA and the mathematical techniques and algorithms involved in its execution. For me, learning those first was my first priority. I am sometimes slow to assimilate new information, so I wasn't really sure what to plan ahead for. It's hard to plan for something that I have never done before. The Mastery Workbooks definitely helped - they gave me work to do on the project relevant to that week's curriculum and encouraged me to plan ahead as best I could. In other words, I mostly planned ahead, telling myself when I would be getting certain parts of the project done, and then \"winging\" the rest, because that's the nature of doing new things. I am methodical whenever possible and adaptable whenever necessary.\n",
    "\n",
    "It was satisfying to get encryption and decryption working. I was a little unsure of whether or not my code would work, but I tried to remember that this project is designed to facilitate success as long as you are diligent in the coursework. I was initially having some trouble encrypting and decrypting messages. I would input a message, then encrypt/decrypt it, and end up with a string of nonsense characters. I think this was because I did not initially write a Python script to keep the order of operations correct. Once I did that, making sure I was passing the correct p, q, e, and d values into my functions, I had more success. Overall, the code exchange went well. I was immediately able to decrypt other students' posts using their private keys, and then writing responses using the public ones. I always made to sure to double check that my responses were decrypting into readable messages. The repeated testing and checking was what took the most time. Sometimes the decryption would not work, and I think that was related to a bug in my Extended Euclidean Algorithm that I fixed soon after.\n",
    "\n",
    "The most challenging part of this project was having to learn large amounts of new theory, and nearly immediately put it into practice. It was difficult to plan out something so new and fast-paced. Even when looking ahead, I didn't always understand what I was going to be doing, so it sometimes felt like being blindfolded and led by the hand through an unknown place. I just tried to be diligent in my studies and \"trust the process\".\n",
    "\n",
    "Overall, I think this project was well-designed. It used material exactly from the course, and followed the curriculum timeline. One helpful resource was the Python Docs; that was where I found the \"secrets\" module, which I used to generate public keys with high-quality randomness. Another was GeeksForGeeks, which had some useful tips on coding and modules.\n",
    "\n",
    "My Best Mistake was a bug in my code that caused my decryption function to periodically not work and return strings of nonsense characters. I thought I had found the issue: sometimes my d value was not the correct modular inverse of e mod phi. I was up late one night trying to figure out why, but got totally stumped. After office hours, I tried to check that e and d were relatively prime, but I was still getting junk values. Sometimes the modular inverse was correct, but still ended up giving me junk decryptions. My next thought was that the problem was inside of my Extended Euclidean Algorithm function, because that was where I was doing something different with my d value.  \n",
    "\n",
    "In order to make EEA work, I swapped the inputs so that a would always be greater than b in the equation a mod b. I made sure to swap the resulting s1 and t1 values to reflect this. I also made sure to add the initial value of a, a0 to s1 until it was positive, so that my decryption would work later. What I failed to notice was that depending on the order of the inputs, it was necessary to add either a0 OR b0 to s1. I noticed this when I printed out the linear combinations of EEA(1012, 27) and EEA(27, 1012). To fix the issue, I added a conditional to the loop for updating s1 to make it positive, ensuring that the correct amount (a0 or b0) was added. This solved the problem immediately. I was deeply frustrated by this problem for several days, so I was really happy to figure it out. Lesson learned: when swapping numbers, CHECK EVERYTHING CAREFULLY.\n"
   ]
  },
  {
   "cell_type": "markdown",
   "metadata": {
    "tags": []
   },
   "source": [
    "### 8. Code Breaking\n",
    "\n",
    "Basic code breaking is done by using a brute force algorithm to factor n to get p and q values, then reverse engineering the private key d and using it to decrypt a message.\n"
   ]
  },
  {
   "cell_type": "markdown",
   "metadata": {},
   "source": [
    "**Brute Force Factorization**"
   ]
  },
  {
   "cell_type": "code",
   "execution_count": 78,
   "metadata": {},
   "outputs": [],
   "source": [
    "def factorize(n):\n",
    "    # n is a number, return the smallest factor of n\n",
    "    for i in range(2, n):\n",
    "        if n % i == 0:\n",
    "            return i\n",
    "    return False"
   ]
  },
  {
   "cell_type": "markdown",
   "metadata": {},
   "source": [
    "**How Code Breaking Works**\n",
    "\n",
    "Code breaking is pretty straightforward. First, get the public key and encrypted_message given by the writer of the code:"
   ]
  },
  {
   "cell_type": "code",
   "execution_count": 79,
   "metadata": {},
   "outputs": [],
   "source": [
    "n, e = (781, 9021)   # public key\n",
    "encrypted_message = [72, 321, 174, 174, 144, 539, 329, 604, 144, 444, 174, 221, 209]"
   ]
  },
  {
   "cell_type": "markdown",
   "metadata": {},
   "source": [
    "Next, factor the n value to get the p and q values using the factorize() function and arithmetic:"
   ]
  },
  {
   "cell_type": "code",
   "execution_count": 80,
   "metadata": {},
   "outputs": [],
   "source": [
    "p = factorize(n)\n",
    "q = n // p"
   ]
  },
  {
   "cell_type": "markdown",
   "metadata": {},
   "source": [
    "Using these p and q values, as well as the provided public key e, determine the private key using Find_Private_Key_d():"
   ]
  },
  {
   "cell_type": "code",
   "execution_count": 81,
   "metadata": {},
   "outputs": [],
   "source": [
    "d = Find_Private_Key_d(e, p, q)"
   ]
  },
  {
   "cell_type": "markdown",
   "metadata": {},
   "source": [
    "Lastly, using p, q, and the calculated private key d, decode the encrypted message using Decode():"
   ]
  },
  {
   "cell_type": "code",
   "execution_count": 82,
   "metadata": {},
   "outputs": [
    {
     "name": "stdout",
     "output_type": "stream",
     "text": [
      "Hello, World!\n"
     ]
    }
   ],
   "source": [
    "decoded_text = Decode(n, d, encrypted_message)\n",
    "print(decoded_text)"
   ]
  },
  {
   "cell_type": "markdown",
   "metadata": {},
   "source": [
    "After brute forcing an n value with 17 digits, I noticed that it takes a REALLY long time to brute force larger values of n, especially after n exceeds 14 digits. The p and q values are calculated fairly quickly, but the decryption is quite slow. If large values of n are used, RSA is very secure, because it takes a VERY LONG TIME to process the large numbers involved, if they can be processed at all. However, my implementation is not very secure, because it uses relatively small numbers, which can be cracked easily."
   ]
  },
  {
   "cell_type": "markdown",
   "metadata": {
    "tags": []
   },
   "source": [
    "### 9. Code Breaking: Complete Examples\n"
   ]
  },
  {
   "cell_type": "markdown",
   "metadata": {},
   "source": [
    "**Code Breaking Example**\n",
    "\n",
    "I will be breaking Justin L's code. The public key and cipher are provided:"
   ]
  },
  {
   "cell_type": "code",
   "execution_count": 83,
   "metadata": {},
   "outputs": [],
   "source": [
    "n, e = 6883612823, 67 # Public Key\n",
    "\n",
    "Cipher =  [6228687168, 2479805619, 3810606779, 6374462197, 1970299466, 4967789840, 594058649, 1175235167, 1614932420, 2479805619, 3810606779, 1614932420, 6024407370, 1463405190, 2660112545, 1970299466, 5064114676, 2342712351, 594058649, 3868547149, 3810606779, 6374462197, 1614932420, 5810967685, 5064114676, 1614932420, 5810967685, 1463405190, 1175235167, 1175235167, 4967789840, 6374462197, 1463405190, 132705964, 1614932420, 5962446038, 6471172030, 4967789840, 594058649, 1614932420, 3868547149, 1175235167, 1614932420, 5064114676, 2479805619, 3146077563, 1970299466, 1614932420, 6735133346, 4967789840, 4722640704, 2479805619, 1970299466, 3868547149, 594058649, 1463405190, 1614932420, 5810967685, 2479805619, 4722640704, 3868547149, 1463405190, 1172750983]"
   ]
  },
  {
   "cell_type": "markdown",
   "metadata": {},
   "source": [
    "Factor the n value to get the p and q values:"
   ]
  },
  {
   "cell_type": "code",
   "execution_count": 84,
   "metadata": {},
   "outputs": [],
   "source": [
    "p = factorize(n)\n",
    "q = n // p"
   ]
  },
  {
   "cell_type": "markdown",
   "metadata": {},
   "source": [
    "Using these p and q values, as well as the provided public key e, determine the private key using Find_Private_Key_d():"
   ]
  },
  {
   "cell_type": "code",
   "execution_count": 85,
   "metadata": {},
   "outputs": [],
   "source": [
    "d = Find_Private_Key_d(e, p, q)"
   ]
  },
  {
   "cell_type": "markdown",
   "metadata": {},
   "source": [
    "Decode the encrypted message using n and private key d:"
   ]
  },
  {
   "cell_type": "code",
   "execution_count": 86,
   "metadata": {},
   "outputs": [
    {
     "name": "stdout",
     "output_type": "stream",
     "text": [
      "Congrats on decrypting my message! What is your favorite movie?\n"
     ]
    }
   ],
   "source": [
    "decoded_text = Decode(n, d, Cipher)\n",
    "print(decoded_text)"
   ]
  },
  {
   "cell_type": "markdown",
   "metadata": {},
   "source": [
    "**Decode and Respond**"
   ]
  },
  {
   "cell_type": "markdown",
   "metadata": {},
   "source": [
    "The following Code_Breaker() function is used to automate the steps used to \"brute force\" decrypt messages:"
   ]
  },
  {
   "cell_type": "code",
   "execution_count": 87,
   "metadata": {},
   "outputs": [],
   "source": [
    "def Code_Breaker(n_val, e_val, cipher_text):\n",
    "    \"\"\"\n",
    "    Decodes messages using given public key and brute force factorization algorithm.\n",
    "    \"\"\"\n",
    "    p = factorize(n_val)\n",
    "    q = n_val // p\n",
    "    d = Find_Private_Key_d(e_val, p, q)\n",
    "    decoded_text = Decode(n_val, d, cipher_text)\n",
    "    \n",
    "    return decoded_text"
   ]
  },
  {
   "cell_type": "code",
   "execution_count": 88,
   "metadata": {},
   "outputs": [
    {
     "name": "stdout",
     "output_type": "stream",
     "text": [
      "\n",
      "The best thing about a Boolean is even if you are wrong, you are only off by a bit.\n",
      "Cipher = [85308, 48594, 15927, 110238, 15927, 71285, 90170, 110238, 15927, 71285, 81670, 115640, 71285, 23406, 29228, 114803, 15927, 767, 71285, 38946, 84628, 71285, 114803, 15927, 38946, 114803, 86792, 15927, 71285, 12676, 37298, 71285, 23406, 48594, 15927, 71285, 81798, 38946, 110238, 86792, 38831, 14527, 71285, 23406, 48594, 38946, 767, 15927, 71285, 81798, 48594, 38946, 71285, 38783, 37298, 38831, 15927, 110238, 767, 23406, 90170, 37298, 38831, 71285, 61037, 12676, 37298, 90170, 110238, 29228, 126494, 71285, 90170, 37298, 38831, 71285, 23406, 48594, 38946, 767, 15927, 71285, 81798, 48594, 38946, 71285, 38831, 38946, 37298, 92171, 23406, 10510]\n",
      "There are 10 types of people in the world: those who understand binary, and those who don't.\n",
      "\n",
      "if you decoded this, you owe me lunch!\n",
      "Cipher = [357, 145, 314, 457, 448, 511, 457, 298, 24, 457, 234, 145, 426, 150, 20, 417, 511, 20, 241]\n",
      "Can we go halfsies?\n",
      "\n",
      "Pick one: handwritten or typed?\n",
      "Cipher = [435, 637, 36, 763, 88, 89, 840, 192, 19, 63, 117, 637, 88, 716, 63, 117, 652, 440, 637, 406, 776, 63, 637, 63, 253, 216, 117, 637, 117, 266, 117, 192, 253, 63, 36, 19, 88, 577, 637, 117, 290, 652, 117, 337]\n",
      "I handwrite notes, but type everything else.\n",
      "\n"
     ]
    }
   ],
   "source": [
    "print()\n",
    "\n",
    "# Message - by Rachel C.\n",
    "n, e = 130177, 13 #Public Key\n",
    "encoded_message = [85308, 48594, 15927, 71285, 61037, 15927, 767, 23406, 71285, 23406, 48594, 12676, 37298, 100459, 71285, 90170, 61037, 38946, 38783, 23406, 71285, 90170, 71285, 113492, 38946, 38946, 86792, 15927, 90170, 37298, 71285, 12676, 767, 71285, 15927, 121493, 15927, 37298, 71285, 12676, 84628, 71285, 29228, 38946, 38783, 71285, 90170, 110238, 15927, 71285, 81798, 110238, 38946, 37298, 100459, 126494, 71285, 29228, 38946, 38783, 71285, 90170, 110238, 15927, 71285, 38946, 37298, 86792, 29228, 71285, 38946, 84628, 84628, 71285, 61037, 29228, 71285, 90170, 71285, 61037, 12676, 23406, 10510]\n",
    "print(Code_Breaker(n, e, encoded_message))\n",
    "\n",
    "# Response - Connor Brown\n",
    "string = \"There are 10 types of people in the world: those who understand binary, and those who don't.\"\n",
    "encoded_message = Encode(130177, 13, string)\n",
    "print(\"Cipher =\", encoded_message)\n",
    "print(Code_Breaker(n, e, encoded_message))\n",
    "\n",
    "print()\n",
    "#################################\n",
    "\n",
    "# Message - by Faisal S.\n",
    "n, e = 559 ,5 #Public Key\n",
    "encoded_message = [417, 150, 457, 127, 24, 52, 457, 367, 511, 203, 24, 367, 511, 367, 457, 12, 234, 417, 20, 44, 457, 127, 24, 52, 457, 24, 448, 511, 457, 447, 511, 457, 426, 52, 314, 203, 234, 362]\n",
    "print(Code_Breaker(n, e, encoded_message))\n",
    "\n",
    "# Response - Connor Brown\n",
    "string = \"Can we go halfsies?\"\n",
    "encoded_message = Encode(559, 5, string)\n",
    "print(\"Cipher =\", encoded_message)\n",
    "print(Code_Breaker(n, e, encoded_message))\n",
    "\n",
    "print()\n",
    "#################################\n",
    "\n",
    "# Message - by Linda M.\n",
    "n, e =  869, 7 #Public Key\n",
    "encoded_message = [317, 19, 209, 35, 637, 716, 88, 117, 306, 637, 36, 763, 88, 89, 840, 192, 19, 63, 63, 117, 88, 637, 716, 192, 637, 63, 253, 216, 117, 89, 145]\n",
    "print(Code_Breaker(n, e, encoded_message))\n",
    "\n",
    "# Response - Connor Brown\n",
    "string = \"I handwrite notes, but type everything else.\"\n",
    "encoded_message = Encode(869, 7, string)\n",
    "print(\"Cipher =\", encoded_message)\n",
    "print(Code_Breaker(n, e, encoded_message))\n",
    "\n",
    "print()"
   ]
  },
  {
   "cell_type": "markdown",
   "metadata": {},
   "source": [
    "\n",
    "### 10. Custom Feature"
   ]
  },
  {
   "cell_type": "markdown",
   "metadata": {},
   "source": [
    "For my custom feature, I went with a main() function. It is used to automate the encryption and decryption process. While it's not my first time building one, I did this one entirely myself with little-to-no assistance from programming resources such as GeeksforGeeks. It uses the RSA package I built earlier in the project, as well as helper functions I built afterwards.\n",
    "\n",
    "It displays a menu with four options: Get Keys, Encode a Message, Decode a Message, and Exit. Get Keys prompts the user for two prime numbers, which are used to calculate the public and private keys needed to encode a message. Encode a Message prompts the user for the public keys and a string message, which are encoded into a list of integers and displayed to the user. Decode a Message does the opposite. It prompts the user for the private key and a list of encoded integers, which are then converted back into a comprehensible string message and displayed to the user. Exit ends the program. There is also a catchall for the case that the user selects an unavailable option.\n",
    "\n",
    "It was simple and straightforward to implement, and makes it much easier to encode and decode messages. Yay computers!"
   ]
  },
  {
   "cell_type": "code",
   "execution_count": 89,
   "metadata": {},
   "outputs": [
    {
     "name": "stdout",
     "output_type": "stream",
     "text": [
      "==========================\n",
      "       RSA PROJECT        \n",
      "   Discrete Structures    \n",
      "       Connor Brown       \n",
      "     [ID: XXXXXXXXX]      \n",
      "==========================\n",
      "\n",
      "Options:\n",
      "1. Get Keys\n",
      "2. Encode a Message\n",
      "3. Decode a Message\n",
      "4. Exit\n"
     ]
    },
    {
     "ename": "ValueError",
     "evalue": "invalid literal for int() with base 10: ''",
     "output_type": "error",
     "traceback": [
      "\u001b[0;31m---------------------------------------------------------------------------\u001b[0m",
      "\u001b[0;31mValueError\u001b[0m                                Traceback (most recent call last)",
      "Cell \u001b[0;32mIn[89], line 372\u001b[0m\n\u001b[1;32m    370\u001b[0m \u001b[38;5;66;03m# run main as script\u001b[39;00m\n\u001b[1;32m    371\u001b[0m \u001b[38;5;28;01mif\u001b[39;00m \u001b[38;5;18m__name__\u001b[39m \u001b[38;5;241m==\u001b[39m \u001b[38;5;124m'\u001b[39m\u001b[38;5;124m__main__\u001b[39m\u001b[38;5;124m'\u001b[39m:\n\u001b[0;32m--> 372\u001b[0m     \u001b[43mmain\u001b[49m\u001b[43m(\u001b[49m\u001b[43m)\u001b[49m\n",
      "Cell \u001b[0;32mIn[89], line 346\u001b[0m, in \u001b[0;36mmain\u001b[0;34m()\u001b[0m\n\u001b[1;32m    342\u001b[0m \u001b[38;5;250m\u001b[39m\u001b[38;5;124;03m\"\"\"\u001b[39;00m\n\u001b[1;32m    343\u001b[0m \u001b[38;5;124;03mCreates a command line interface (via helper functions) that allows uses to encrypt and decrypt data using RSA system.\u001b[39;00m\n\u001b[1;32m    344\u001b[0m \u001b[38;5;124;03m\"\"\"\u001b[39;00m\n\u001b[1;32m    345\u001b[0m menu()\n\u001b[0;32m--> 346\u001b[0m selection \u001b[38;5;241m=\u001b[39m \u001b[38;5;28;43mint\u001b[39;49m\u001b[43m(\u001b[49m\u001b[38;5;28;43minput\u001b[39;49m\u001b[43m(\u001b[49m\u001b[38;5;124;43m\"\u001b[39;49m\u001b[38;5;124;43mMake a selection: \u001b[39;49m\u001b[38;5;124;43m\"\u001b[39;49m\u001b[43m)\u001b[49m\u001b[43m)\u001b[49m\n\u001b[1;32m    347\u001b[0m \u001b[38;5;28mprint\u001b[39m()\n\u001b[1;32m    348\u001b[0m \u001b[38;5;66;03m# display options until user quits (inputs '4')\u001b[39;00m\n",
      "\u001b[0;31mValueError\u001b[0m: invalid literal for int() with base 10: ''"
     ]
    }
   ],
   "source": [
    "def FME(b, n, m):\n",
    "    \"\"\"\n",
    "    Using the fast modular exponentiation algorithm, returns b**n mod m.\n",
    "    \"\"\"\n",
    "    \n",
    "    # initial values\n",
    "    result = 1\n",
    "    square = b\n",
    "    \n",
    "    while (n > 0):\n",
    "        # convert n to binary, start from least significant digit\n",
    "        k = n % 2 \n",
    "        # add to result if binary digit is 1\n",
    "        if k == 1:\n",
    "            result = (result * square) % m\n",
    "        # advance exponent base\n",
    "        square = (square * square) % m\n",
    "        # advance to next digit in n while reducing n\n",
    "        n //= 2\n",
    "        \n",
    "    return result\n",
    "\n",
    "\n",
    "def Euclidean_Alg(a, b):\n",
    "    \"\"\"\n",
    "    1. Calculate the Greatest Common Divisor of a and b.  \n",
    "    2. This version should have only positive inputs and outputs.\n",
    "    3. The function must return a single integer ('x') which is\n",
    "    the gcd of a and b.\n",
    "    \"\"\"\n",
    "    \n",
    "    # check inputs for correct type and value\n",
    "    if (type(a) != int) or (type(b) != int):\n",
    "        raise TypeError(\"Inputs must be positive integers.\")\n",
    "    if (a <= 0) or (b <= 0):\n",
    "        raise ValueError(\"Inputs must be positive integers.\")\n",
    "    \n",
    "    # swap inputs if a is not greater than b\n",
    "    if (b > a):\n",
    "        temp = a\n",
    "        a = b\n",
    "        b = temp\n",
    "    \n",
    "    # calculate gcd\n",
    "    while (b > 0):\n",
    "        # find remainder of a / b\n",
    "        k = a % b\n",
    "        # advance a to next smallest number\n",
    "        a = b\n",
    "        # advance b to remainder\n",
    "        b = k\n",
    "    \n",
    "    # gcd equal to final value of a\n",
    "    x = a\n",
    "    \n",
    "    return x\n",
    "\n",
    "\n",
    "def EEA(a, b):\n",
    "    \"\"\"\n",
    "    This function returns: \n",
    "    1. the GCD of a, b \n",
    "    2. Bezout's coefficients (s1, t1)\n",
    "    \n",
    "    Inputs are positive integers.\n",
    "    \n",
    "    a must be greater than b.\n",
    "    \"\"\"\n",
    "        \n",
    "    # check inputs for correct type and value\n",
    "    if (type(a) != int) or (type(b) != int):\n",
    "        raise TypeError(\"Inputs must be positive integers.\")\n",
    "    if (a <= 0) or (b <= 0):\n",
    "        raise ValueError(\"Inputs must be positive integers.\")\n",
    "    \n",
    "    # swap inputs if a is not greater than b\n",
    "    isSwapped = b > a\n",
    "    if (isSwapped):\n",
    "        temp = a\n",
    "        a = b\n",
    "        b = temp\n",
    "        \n",
    "    # initial values of a and b\n",
    "    a0 = a\n",
    "    b0 = b\n",
    "    \n",
    "    # initial values of Bezout coefficients\n",
    "    s1, t1 = (1, 0)\n",
    "    s2, t2 = (0, 1)\n",
    "    \n",
    "    # calculate gcd and Bezout coefficients\n",
    "    while (b > 0):\n",
    "        # update a and b using new Bezout coefficients\n",
    "        a = (s1 * a0) + (t1 * b0)\n",
    "        b = (s2 * a0) + (t2 * b0)\n",
    "        \n",
    "        # find remainder of a / b\n",
    "        k = a % b\n",
    "        # find integer quotient of a / b\n",
    "        q = a // b\n",
    "        \n",
    "        # advance a to next smallest number\n",
    "        a = b\n",
    "        # advance b to remainder\n",
    "        b = k\n",
    "        \n",
    "        # calculate Bezout coefficients for next smallest number\n",
    "        s1_p, t1_p = (s2, t2)\n",
    "        s2_p, t2_p = (s1 - (q * s2), t1 - (q * t2))\n",
    "        \n",
    "        # update actual Bezout coefficients\n",
    "        s1, t1 = (s1_p, t1_p)\n",
    "        s2, t2 = (s2_p, t2_p)\n",
    "        \n",
    "    # gcd equal to final value of a\n",
    "    gcd = a\n",
    "    \n",
    "    # reflect original order of a and b\n",
    "    if isSwapped:\n",
    "        s1_final = t1\n",
    "        t1_final = s1\n",
    "    else:\n",
    "        s1_final = s1\n",
    "        t1_final = t1\n",
    "        \n",
    "    # ensure that s1_final is positive using modular inverse trick\n",
    "    while (s1_final < 0):\n",
    "        if isSwapped:\n",
    "            s1_final += a0\n",
    "        else:\n",
    "            s1_final += b0\n",
    "        t1_final = (gcd - (s1_final * a0)) // b0\n",
    "        \n",
    "    \n",
    "    return gcd, (s1_final, t1_final)\n",
    "\n",
    "\n",
    "def Find_Public_Key_e(p, q):\n",
    "    \"\"\"\n",
    "    Takes in 2 primes p and q.\n",
    "    \n",
    "    Returns 2 elements as follows:\n",
    "    public key: n\n",
    "    public key: e\n",
    "    \"\"\"\n",
    "    \n",
    "    # for getting quality random numbers\n",
    "    from secrets import randbelow\n",
    "    \n",
    "    # calculate n and phi(n)\n",
    "    n = p * q\n",
    "    phi_n = (p - 1) * (q - 1)\n",
    "    \n",
    "    # calculate initial value for e\n",
    "    e = randbelow(10000)\n",
    "    \n",
    "    # update e value until required conditions are met\n",
    "    while (Euclidean_Alg(phi_n, e) != 1 or e == p or e == q):\n",
    "        e = randbelow(10000)\n",
    "        \n",
    "    return (n, e)\n",
    "\n",
    "\n",
    "def Find_Private_Key_d(e, p, q):\n",
    "    \"\"\"\n",
    "    Returns the decryption exponent d, such that d is the modular inverse of e. \n",
    "    \n",
    "    This will use the Extended Euclidean Algorithm.\n",
    "    \n",
    "    This function should return the following:\n",
    "    d: the decryption component.\n",
    "    \"\"\"\n",
    "    \n",
    "    # calculate n and phi(n)\n",
    "    n = p * q\n",
    "    phi_n = (p - 1) * (q - 1)\n",
    "    \n",
    "    # d is modular inverse of e mod phi_n - calculate using EEA of (e, phi_n)\n",
    "    gcd, (s1, t1) = EEA(e, phi_n)\n",
    "    \n",
    "    # d is equal to Bezout coefficient s1\n",
    "    d = s1\n",
    "    \n",
    "    return d\n",
    "\n",
    "\n",
    "def Convert_Text(_string):\n",
    "    \"\"\"\n",
    "    Takes in a string and returns the corresponding\n",
    "    standard list of integers (ascii) for each letter in the string.\n",
    "    \"\"\"\n",
    "    integer_list = []\n",
    "    \n",
    "    # add converted characters to list\n",
    "    for char in _string:\n",
    "        integer_list.append(ord(char))\n",
    "        \n",
    "    return integer_list\n",
    "\n",
    "\n",
    "def Convert_Num(_list):\n",
    "    \"\"\"\n",
    "    Takes in a list of integers (ascii)\n",
    "    and outputs the corresponding string.\n",
    "    \"\"\"\n",
    "    _string = ''\n",
    "    \n",
    "    # update string with converted integers\n",
    "    for i in _list:\n",
    "        _string += chr(i)\n",
    "        \n",
    "    return _string\n",
    "\n",
    "\n",
    "def Encode(n, e, message):\n",
    "    \"\"\"\n",
    "    Encodes message using by converting message to integer list\n",
    "    and then uses n, e, and FME to alter values.\n",
    "    \n",
    "    Returns cipher_text (list)\n",
    "    \"\"\"\n",
    "    \n",
    "    # get unencoded list\n",
    "    int_list = Convert_Text(message)\n",
    "    \n",
    "    # encoded list\n",
    "    cipher_text = []\n",
    "    \n",
    "    # encode items in int_list using FME, add to cipher_text\n",
    "    for m in int_list:\n",
    "        m_encrypted = FME(m, e, n)\n",
    "        cipher_text.append(m_encrypted)\n",
    "    \n",
    "    return cipher_text\n",
    "\n",
    "\n",
    "def Decode(n, d, cipher_text):\n",
    "    \"\"\"\n",
    "    Takes in a list of encoded integers. Decodes message using\n",
    "    n, d, and FME, then converts resulting number list to a string.\n",
    "    \n",
    "    Returns: message (string) \n",
    "    \"\"\"\n",
    "    \n",
    "    message = ''\n",
    "    \n",
    "    # decrypt cipher text list using FME\n",
    "    decrypted_cipher_text = [FME(c, d, n) for c in cipher_text]\n",
    "    \n",
    "    # convert decrypted list to string\n",
    "    message = Convert_Num(decrypted_cipher_text)\n",
    "\n",
    "    return message\n",
    "\n",
    "\n",
    "##########################\n",
    "##### CUSTOM FEATURE #####\n",
    "##########################\n",
    "\n",
    "\n",
    "def menu():\n",
    "    \"\"\"\n",
    "    Displays menu for command line interface.\n",
    "    \"\"\"\n",
    "    \n",
    "    print(\"==========================\")\n",
    "    print(f\"{'RSA PROJECT':^26}\")\n",
    "    print(f\"{'Discrete Structures':^26}\")\n",
    "    print(f\"{'Connor Brown':^26}\")\n",
    "    print(f\"{'[ID: XXXXXXXXX]':^26}\")\n",
    "    print(\"==========================\")\n",
    "    print()\n",
    "    print(\"Options:\")\n",
    "    print(\"1. Get Keys\")\n",
    "    print(\"2. Encode a Message\")\n",
    "    print(\"3. Decode a Message\")\n",
    "    print(\"4. Exit\")\n",
    "\n",
    "    \n",
    "def get_keys():\n",
    "    \"\"\"\n",
    "    Takes user input for two prime numbers p and q and\n",
    "    outputs public and private keys.\n",
    "    \"\"\"\n",
    "    \n",
    "    # get user input\n",
    "    p = int(input(\"Enter first prime number 'p': \"))\n",
    "    q = int(input(\"Enter second prime number 'q': \"))\n",
    "    \n",
    "    # get public and private key values\n",
    "    n, e = Find_Public_Key_e(p, q)\n",
    "    d = Find_Private_Key_d(e, p, q)\n",
    "    \n",
    "    # display results\n",
    "    print(f\"Your public keys (n, e) are: ({n}, {e})\")\n",
    "    print(f\"Your private key 'd' is: {d}\")\n",
    "\n",
    "    \n",
    "def encode_message():\n",
    "    \"\"\"\n",
    "    Takes user input for public keys (n, e) and a message,\n",
    "    then prints the encrypted message as a list of numbers.\n",
    "    \"\"\"\n",
    "    \n",
    "    # get user input - public keys and message to encrypt\n",
    "    n = int(input(\"Enter public key 'n': \"))\n",
    "    e = int(input(\"Enter public key 'e': \"))\n",
    "    message = input(\"Enter a message to encrypt, then press ENTER: \")\n",
    "    \n",
    "    # encrypt message using keys\n",
    "    ciphertext = Encode(n, e, message)\n",
    "    \n",
    "    # display encrypted message\n",
    "    print()\n",
    "    print(f\"Ciphertext: {ciphertext}\")\n",
    "\n",
    "    \n",
    "def decode_message():\n",
    "    \"\"\"\n",
    "    Takes user input for public key 'n', private key 'd', and\n",
    "    an encrypted message list, then prints the decrypted message\n",
    "    as a string.\n",
    "    \"\"\"\n",
    "    # get user input - public key n, private key d and ciphertext list\n",
    "    n = int(input(\"Enter public key 'n': \"))\n",
    "    d = int(input(\"Enter private key 'd': \"))\n",
    "    ciphertext_str = input(\"Enter ciphertext as a list (e.g. [23, 14]): \")\n",
    "    \n",
    "    # convert ciphertext string input into Python list of integers\n",
    "    ciphertext = [int(i) for i in ciphertext_str.strip(\"[]\").split(\",\")]\n",
    "    \n",
    "    # decrypt cipher using keys\n",
    "    message = Decode(n, d, ciphertext)\n",
    "    \n",
    "    # display decrypted message\n",
    "    print()\n",
    "    print(\"The decoded message is:\")\n",
    "    print(message)\n",
    "    \n",
    "\n",
    "def main():\n",
    "    \"\"\"\n",
    "    Creates a command line interface (via helper functions) that allows uses to encrypt and decrypt data using RSA system.\n",
    "    \"\"\"\n",
    "    menu()\n",
    "    selection = int(input(\"Make a selection: \"))\n",
    "    print()\n",
    "    # display options until user quits (inputs '4')\n",
    "    while (selection != 4):\n",
    "        if selection == 1:\n",
    "            get_keys()\n",
    "        elif selection == 2:\n",
    "            encode_message()\n",
    "        elif selection == 3:\n",
    "            decode_message()\n",
    "        else:\n",
    "            print(\"Invalid selection. Please try again.\")\n",
    "        \n",
    "        print()\n",
    "        next_selection = input(\"Press ENTER to continue\")\n",
    "        print()\n",
    "        menu()\n",
    "        selection = int(input(\"Make a selection:\"))\n",
    "        print()\n",
    "     \n",
    "    # selection == 4: exit program\n",
    "    print(\"Goodbye.\")\n",
    "    \n",
    "\n",
    "# run main as script\n",
    "if __name__ == '__main__':\n",
    "    main()"
   ]
  },
  {
   "cell_type": "markdown",
   "metadata": {},
   "source": [
    "**Custom Feature Demonstration:**\n",
    "\n",
    "The following block is an example of using my custom main() function, in case the program does not work:"
   ]
  },
  {
   "cell_type": "raw",
   "metadata": {
    "vscode": {
     "languageId": "raw"
    }
   },
   "source": [
    "==========================\n",
    "       RSA PROJECT        \n",
    "   Discrete Structures        \n",
    "       Connor Brown       \n",
    "     [ID: XXXXXXXXX]      \n",
    "==========================\n",
    "\n",
    "Options:\n",
    "1. Get Keys\n",
    "2. Encode a Message\n",
    "3. Decode a Message\n",
    "4. Exit\n",
    "Make a selection:  1\n",
    "\n",
    "Enter first prime number 'p':  11\n",
    "Enter second prime number 'q':  331\n",
    "Your public keys (n, e) are: ((3641, 931))\n",
    "Your private key 'd' is: 1471\n",
    "\n",
    "Press ENTER to continue \n",
    "\n",
    "==========================\n",
    "       RSA PROJECT        \n",
    "   Discrete Structures        \n",
    "       Connor Brown       \n",
    "     [ID: XXXXXXXXX]      \n",
    "==========================\n",
    "\n",
    "Options:\n",
    "1. Get Keys\n",
    "2. Encode a Message\n",
    "3. Decode a Message\n",
    "4. Exit\n",
    "Make a selection: 2\n",
    "\n",
    "Enter public key 'n':  3641\n",
    "Enter public key 'e':  931\n",
    "Enter a message to encrypt, then press ENTER:  Hello, World!\n",
    "\n",
    "Ciphertext: [2756, 1630, 3221, 3221, 936, 957, 32, 1330, 936, 422, 3221, 56, 2387]\n",
    "\n",
    "Press ENTER to continue \n",
    "\n",
    "==========================\n",
    "       RSA PROJECT        \n",
    "   Discrete Structures         \n",
    "       Connor Brown       \n",
    "     [ID: XXXXXXXXX]      \n",
    "==========================\n",
    "\n",
    "Options:\n",
    "1. Get Keys\n",
    "2. Encode a Message\n",
    "3. Decode a Message\n",
    "4. Exit\n",
    "Make a selection: 3\n",
    "\n",
    "Enter public key 'n':  3641\n",
    "Enter private key'd':  1471\n",
    "Enter ciphertext as a list (e.g. [23, 14]):  [2756, 1630, 3221, 3221, 936, 957, 32, 1330, 936, 422, 3221, 56, 2387]\n",
    "\n",
    "The decoded message is:\n",
    "Hello, World!\n",
    "\n",
    "Press ENTER to continue \n",
    "\n",
    "==========================\n",
    "       RSA PROJECT        \n",
    "   Discrete Structures        \n",
    "       Connor Brown       \n",
    "     [ID: XXXXXXXXX]      \n",
    "==========================\n",
    "\n",
    "Options:\n",
    "1. Get Keys\n",
    "2. Encode a Message\n",
    "3. Decode a Message\n",
    "4. Exit\n",
    "Make a selection: 4\n",
    "\n",
    "Goodbye."
   ]
  },
  {
   "cell_type": "markdown",
   "metadata": {},
   "source": [
    "## Self grading of custom feature ##"
   ]
  },
  {
   "cell_type": "markdown",
   "metadata": {},
   "source": [
    "For my custom feature score, I will give myself an 8 out of 10. I did not push myself very hard on it, but I did a good job, commented effectively, and demonstrated my mastery of Python skills. \n",
    "\n",
    "I built a main() function to help automate the encryption and decryption process. While it's not my first time building one, I did this one entirely myself with little-to-no assistance from programming resources such as GeeksforGeeks. It uses helper functions and the RSA package I built earlier in the project. Learning about and implementing RSA was something completely new to me, so I wanted to do a custom feature that was a little more familiar."
   ]
  }
 ],
 "metadata": {
  "kernelspec": {
   "display_name": "Python 3 (ipykernel)",
   "language": "python",
   "name": "python3"
  },
  "language_info": {
   "codemirror_mode": {
    "name": "ipython",
    "version": 3
   },
   "file_extension": ".py",
   "mimetype": "text/x-python",
   "name": "python",
   "nbconvert_exporter": "python",
   "pygments_lexer": "ipython3",
   "version": "3.11.8"
  }
 },
 "nbformat": 4,
 "nbformat_minor": 4
}
